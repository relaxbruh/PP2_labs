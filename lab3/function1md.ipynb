{
 "cells": [
  {
   "cell_type": "markdown",
   "metadata": {},
   "source": [
    "TASK 1) A recipe you are reading states how many grams you need for the ingredient. Unfortunately, your store only sells items in ounces. Create a function to convert grams to ounces. ounces = 28.3495231 * grams"
   ]
  },
  {
   "cell_type": "code",
   "execution_count": 1,
   "metadata": {},
   "outputs": [
    {
     "name": "stdout",
     "output_type": "stream",
     "text": [
      "56.6990462\n"
     ]
    }
   ],
   "source": [
    "\n",
    "def myfunc(grams):\n",
    "    print(grams * 28.3495231)\n",
    "myfunc(int(input()))\n",
    "\n",
    "# input : 2\n",
    "# output : 56.6990462"
   ]
  },
  {
   "cell_type": "markdown",
   "metadata": {},
   "source": [
    "TASK 2) Read in a Fahrenheit temperature. Calculate and display the equivalent centigrade temperature. The following formula is used for the conversion: C = (5 / 9) * (F – 32)\n"
   ]
  },
  {
   "cell_type": "code",
   "execution_count": 2,
   "metadata": {},
   "outputs": [
    {
     "name": "stdout",
     "output_type": "stream",
     "text": [
      "-16.666666666666668\n"
     ]
    }
   ],
   "source": [
    "def myfunc(farengeit):\n",
    "    print((5/9) * (farengeit - 32))\n",
    "\n",
    "myfunc(float(input()))"
   ]
  },
  {
   "cell_type": "markdown",
   "metadata": {},
   "source": [
    "TASK 3) Write a program to solve a classic puzzle: We count 35 heads and 94 legs among the chickens and rabbits in a farm. How many rabbits and how many chickens do we have? create function: solve(numheads, numlegs):"
   ]
  },
  {
   "cell_type": "code",
   "execution_count": 8,
   "metadata": {},
   "outputs": [
    {
     "name": "stdout",
     "output_type": "stream",
     "text": [
      "the number of rabbits: 12.0 \n",
      " the number of chickens: 23.0\n"
     ]
    }
   ],
   "source": [
    "\n",
    "# x = rabbit\n",
    "# y = chicken\n",
    "def solve(numlegs, numheads):\n",
    "    x = (numlegs - (2 * numheads))/2\n",
    "    y = numheads - x\n",
    "    print(\"the number of rabbits:\", x,'\\n',\"the number of chickens:\",y)\n",
    "h, l = map(int, input().split())\n",
    "solve(h, l) "
   ]
  },
  {
   "cell_type": "markdown",
   "metadata": {},
   "source": [
    "TASK 4) You are given list of numbers separated by spaces. Write a function filter_prime which will take list of numbers as an agrument and returns only prime numbers from the list."
   ]
  },
  {
   "cell_type": "code",
   "execution_count": 15,
   "metadata": {},
   "outputs": [
    {
     "name": "stdout",
     "output_type": "stream",
     "text": [
      "2\n",
      "3\n",
      "5\n",
      "7\n"
     ]
    }
   ],
   "source": [
    "def filter_prime(numbers):\n",
    "    for x in numbers:\n",
    "        if x < 2:\n",
    "            continue\n",
    "        is_prime = True\n",
    "        for i in range(2, int(x ** 0.5) + 1):\n",
    "            if x % i == 0:\n",
    "                is_prime = False\n",
    "                break\n",
    "        \n",
    "        if is_prime:\n",
    "            print(x)\n",
    "user_input = input(\"Enter numbers by lefting space: \")\n",
    "numbers = list(map(int, user_input.split()))\n",
    "filter_prime(numbers)\n",
    "# input : 2 3 4 5 6 7 8\n",
    "# output : 2 3 5 7"
   ]
  },
  {
   "cell_type": "markdown",
   "metadata": {},
   "source": [
    "TASK 5) Write a function that accepts string from user and print all permutations of that string."
   ]
  },
  {
   "cell_type": "code",
   "execution_count": null,
   "metadata": {},
   "outputs": [
    {
     "name": "stdout",
     "output_type": "stream",
     "text": [
      "donie\n",
      "donei\n",
      "doine\n",
      "doien\n",
      "doeni\n",
      "doein\n",
      "dnoie\n",
      "dnoei\n",
      "dnioe\n",
      "dnieo\n",
      "dneoi\n",
      "dneio\n",
      "dione\n",
      "dioen\n",
      "dinoe\n",
      "dineo\n",
      "dieon\n",
      "dieno\n",
      "deoni\n",
      "deoin\n",
      "denoi\n",
      "denio\n",
      "deion\n",
      "deino\n",
      "odnie\n",
      "odnei\n",
      "odine\n",
      "odien\n",
      "odeni\n",
      "odein\n",
      "ondie\n",
      "ondei\n",
      "onide\n",
      "onied\n",
      "onedi\n",
      "oneid\n",
      "oidne\n",
      "oiden\n",
      "oinde\n",
      "oined\n",
      "oiedn\n",
      "oiend\n",
      "oedni\n",
      "oedin\n",
      "oendi\n",
      "oenid\n",
      "oeidn\n",
      "oeind\n",
      "ndoie\n",
      "ndoei\n",
      "ndioe\n",
      "ndieo\n",
      "ndeoi\n",
      "ndeio\n",
      "nodie\n",
      "nodei\n",
      "noide\n",
      "noied\n",
      "noedi\n",
      "noeid\n",
      "nidoe\n",
      "nideo\n",
      "niode\n",
      "nioed\n",
      "niedo\n",
      "nieod\n",
      "nedoi\n",
      "nedio\n",
      "neodi\n",
      "neoid\n",
      "neido\n",
      "neiod\n",
      "idone\n",
      "idoen\n",
      "idnoe\n",
      "idneo\n",
      "ideon\n",
      "ideno\n",
      "iodne\n",
      "ioden\n",
      "ionde\n",
      "ioned\n",
      "ioedn\n",
      "ioend\n",
      "indoe\n",
      "indeo\n",
      "inode\n",
      "inoed\n",
      "inedo\n",
      "ineod\n",
      "iedon\n",
      "iedno\n",
      "ieodn\n",
      "ieond\n",
      "iendo\n",
      "ienod\n",
      "edoni\n",
      "edoin\n",
      "ednoi\n",
      "ednio\n",
      "edion\n",
      "edino\n",
      "eodni\n",
      "eodin\n",
      "eondi\n",
      "eonid\n",
      "eoidn\n",
      "eoind\n",
      "endoi\n",
      "endio\n",
      "enodi\n",
      "enoid\n",
      "enido\n",
      "eniod\n",
      "eidon\n",
      "eidno\n",
      "eiodn\n",
      "eiond\n",
      "eindo\n",
      "einod\n"
     ]
    }
   ],
   "source": [
    "from itertools import permutations\n",
    "\n",
    "def perm(x):\n",
    "    a = permutations(x)\n",
    "    for i in list(a):\n",
    "        print(\"\".join(i))\n",
    "    \n",
    "\n",
    "perm(str(input()))\n",
    "\n",
    "# input: donie\n",
    "# output: down "
   ]
  },
  {
   "cell_type": "markdown",
   "metadata": {},
   "source": [
    "TASK 6) Write a function that accepts string from user, return a sentence with the words reversed. We are ready -> ready are We"
   ]
  },
  {
   "cell_type": "code",
   "execution_count": 23,
   "metadata": {},
   "outputs": [
    {
     "name": "stdout",
     "output_type": "stream",
     "text": [
      "ready are we\n"
     ]
    }
   ],
   "source": [
    "def myfunc(x):\n",
    "    words = x.split()\n",
    "    reversed_w = \"\"\n",
    "    for word in reversed(words):\n",
    "        reversed_w += word + \" \"\n",
    "    print(reversed_w.strip())\n",
    "    \n",
    "myfunc(str(input()))"
   ]
  },
  {
   "cell_type": "markdown",
   "metadata": {},
   "source": [
    "TASK 7) Given a list of ints, return True if the array contains a 3 next to a 3 somewhere."
   ]
  },
  {
   "cell_type": "code",
   "execution_count": 27,
   "metadata": {},
   "outputs": [
    {
     "data": {
      "text/plain": [
       "False"
      ]
     },
     "execution_count": 27,
     "metadata": {},
     "output_type": "execute_result"
    }
   ],
   "source": [
    "def has_33(nums):\n",
    "    for i in range(len(nums) - 1):\n",
    "        if nums[i]==3 and nums[i+1] == 3:\n",
    "            return True\n",
    "    return False\n",
    "\n",
    "has_33([1,3,3])  # it is  true\n",
    "has_33([1,3,1,3]) # it is false"
   ]
  },
  {
   "cell_type": "markdown",
   "metadata": {},
   "source": [
    "TASK 8) Write a function that takes in a list of integers and returns True if it contains 007 in order"
   ]
  },
  {
   "cell_type": "code",
   "execution_count": 28,
   "metadata": {},
   "outputs": [
    {
     "name": "stdout",
     "output_type": "stream",
     "text": [
      "True\n"
     ]
    }
   ],
   "source": [
    "def spy_game(nums):\n",
    "    found0 = 0\n",
    "    for i in nums:\n",
    "        if i == 0:\n",
    "            found0 = found0 + 1\n",
    "        elif found0 == 2 and i == 7:\n",
    "            return True\n",
    "        else:\n",
    "            found0 = 0\n",
    "    \n",
    "    return False\n",
    "\n",
    "print(spy_game([1, 2, 4, 0, 0, 7, 5]))  # here it is true as there numbers in order 0 0 7"
   ]
  },
  {
   "cell_type": "markdown",
   "metadata": {},
   "source": [
    "TASK 9) Write a function that computes the volume of a sphere given its radius."
   ]
  },
  {
   "cell_type": "code",
   "execution_count": 29,
   "metadata": {},
   "outputs": [
    {
     "name": "stdout",
     "output_type": "stream",
     "text": [
      "16.746666666666666\n"
     ]
    }
   ],
   "source": [
    "def volume(radius):\n",
    "    v = (4/3) * 3.14 * radius * radius\n",
    "    print(v)\n",
    "    \n",
    "volume(int(input()))"
   ]
  },
  {
   "cell_type": "markdown",
   "metadata": {},
   "source": [
    "TASK 10) Write a Python function that takes a list and returns a new list with unique elements of the first list. Note: don't use collection set.\n"
   ]
  },
  {
   "cell_type": "code",
   "execution_count": null,
   "metadata": {},
   "outputs": [
    {
     "name": "stdout",
     "output_type": "stream",
     "text": [
      "['1', '2', '3', '4', '5', '6']\n"
     ]
    }
   ],
   "source": [
    "def unique_l(numbers):\n",
    "    newlist = []\n",
    "    for item in numbers :\n",
    "        if item not in newlist:\n",
    "            newlist.append(item)\n",
    "    return newlist\n",
    "\n",
    "user_input = input()\n",
    "user_list = user_input.split()\n",
    "print(unique_l(user_list))   # INPUT : 1 1 2 3 4 4 5 5 6\n",
    "                             # OUTPUT : 1 2 3 4 5 6 \n",
    "        "
   ]
  },
  {
   "cell_type": "markdown",
   "metadata": {},
   "source": [
    "TASK 11) Write a Python function that checks whether a word or phrase is palindrome or not. Note: A palindrome is word, phrase, or sequence that reads the same backward as forward, e.g., madam"
   ]
  },
  {
   "cell_type": "code",
   "execution_count": 40,
   "metadata": {},
   "outputs": [
    {
     "name": "stdout",
     "output_type": "stream",
     "text": [
      "True\n"
     ]
    }
   ],
   "source": [
    "\n",
    "def palin(x):\n",
    "    s = \"\"\n",
    "    for i in x:\n",
    "        s = i + s\n",
    "    if (x == s):\n",
    "        return True\n",
    "    else:\n",
    "        return False\n",
    "    \n",
    "print(palin(str(input())))\n",
    "# input :  madam  \n",
    "# output : True \n"
   ]
  },
  {
   "cell_type": "markdown",
   "metadata": {},
   "source": [
    "TASK 12) Define a functino histogram() that takes a list of integers and prints a histogram to the screen. For example, histogram([4, 9, 7]) should print the following:"
   ]
  },
  {
   "cell_type": "code",
   "execution_count": 48,
   "metadata": {},
   "outputs": [
    {
     "name": "stdout",
     "output_type": "stream",
     "text": [
      "*\n",
      "**\n",
      "***\n"
     ]
    }
   ],
   "source": [
    "def histogram(numbers):\n",
    "    for num in numbers:\n",
    "            print('*' * num)\n",
    "\n",
    "user_input = input()\n",
    "user_list = list(map(int, user_input.split()))\n",
    "histogram(user_list)\n"
   ]
  },
  {
   "cell_type": "markdown",
   "metadata": {},
   "source": [
    "TASK 13) Write a program able to play the \"Guess the number\" - game, where the number to be guessed is randomly chosen between 1 and 20. This is how it should work when run in a terminal:"
   ]
  },
  {
   "cell_type": "code",
   "execution_count": 52,
   "metadata": {},
   "outputs": [
    {
     "name": "stdout",
     "output_type": "stream",
     "text": [
      "Hello! What is your name?\n",
      "\n",
      "Well, Daniyar , I am thinking of a number between 1 and 20.\n",
      "\n",
      "Take a guess.\n",
      "Your guess is too high.\n",
      "\n",
      "Take a guess.\n",
      "Your guess is too high.\n",
      "\n",
      "Take a guess.\n",
      "Your guess is too low.\n",
      "\n",
      "Take a guess.\n",
      "Your guess is too high.\n",
      "\n",
      "Take a guess.\n",
      "Good job, Daniyar ! You guessed my number in 5 guesses!\n"
     ]
    }
   ],
   "source": [
    "import random\n",
    "\n",
    "def guess_the_number():\n",
    "    print(\"Hello! What is your name?\")\n",
    "    name = input()\n",
    "\n",
    "    print(f\"\\nWell, {name}, I am thinking of a number between 1 and 20.\")\n",
    "    \n",
    "    secret_number = random.randint(1, 20)\n",
    "    attempts = 0\n",
    "\n",
    "    while True:\n",
    "        print(\"\\nTake a guess.\")\n",
    "        try:\n",
    "            guess = int(input())  # Convert input to integer\n",
    "        except ValueError:\n",
    "            print(\"Please enter a valid number.\")\n",
    "            continue\n",
    "\n",
    "        attempts += 1\n",
    "\n",
    "        if guess < secret_number:\n",
    "            print(\"Your guess is too low.\")\n",
    "        elif guess > secret_number:\n",
    "            print(\"Your guess is too high.\")\n",
    "        else:\n",
    "            print(f\"Good job, {name}! You guessed my number in {attempts} guesses!\")\n",
    "            break  # Exit loop when guessed correctly\n",
    "\n",
    "# Run the game\n",
    "guess_the_number()\n"
   ]
  }
 ],
 "metadata": {
  "kernelspec": {
   "display_name": "Python 3",
   "language": "python",
   "name": "python3"
  },
  "language_info": {
   "codemirror_mode": {
    "name": "ipython",
    "version": 3
   },
   "file_extension": ".py",
   "mimetype": "text/x-python",
   "name": "python",
   "nbconvert_exporter": "python",
   "pygments_lexer": "ipython3",
   "version": "3.13.2"
  }
 },
 "nbformat": 4,
 "nbformat_minor": 2
}
