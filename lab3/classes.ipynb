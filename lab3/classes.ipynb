{
 "cells": [
  {
   "cell_type": "code",
   "execution_count": 1,
   "metadata": {},
   "outputs": [
    {
     "name": "stdout",
     "output_type": "stream",
     "text": [
      "ФИС\n"
     ]
    }
   ],
   "source": [
    "class stm:\n",
    "    def __init__(self):\n",
    "        self.a = \"\"\n",
    "    def gts(self):\n",
    "        self.a = input()\n",
    "    def prt(self):\n",
    "        print(self.a.upper())\n",
    "b = stm()\n",
    "b.gts()\n",
    "b.prt()"
   ]
  },
  {
   "cell_type": "code",
   "execution_count": 2,
   "metadata": {},
   "outputs": [
    {
     "ename": "ValueError",
     "evalue": "invalid literal for int() with base 10: '625 900'",
     "output_type": "error",
     "traceback": [
      "\u001b[1;31m---------------------------------------------------------------------------\u001b[0m",
      "\u001b[1;31mValueError\u001b[0m                                Traceback (most recent call last)",
      "Cell \u001b[1;32mIn[2], line 15\u001b[0m\n\u001b[0;32m     13\u001b[0m     \u001b[38;5;28;01mdef\u001b[39;00m\u001b[38;5;250m \u001b[39m\u001b[38;5;21marea\u001b[39m(\u001b[38;5;28mself\u001b[39m):\n\u001b[0;32m     14\u001b[0m         \u001b[38;5;28;01mreturn\u001b[39;00m \u001b[38;5;28mself\u001b[39m\u001b[38;5;241m.\u001b[39mlenth \u001b[38;5;241m*\u001b[39m \u001b[38;5;28mself\u001b[39m\u001b[38;5;241m.\u001b[39mwidth\n\u001b[1;32m---> 15\u001b[0m n \u001b[38;5;241m=\u001b[39m \u001b[38;5;28;43mint\u001b[39;49m\u001b[43m(\u001b[49m\u001b[38;5;28;43minput\u001b[39;49m\u001b[43m(\u001b[49m\u001b[43m)\u001b[49m\u001b[43m)\u001b[49m\n\u001b[0;32m     16\u001b[0m b \u001b[38;5;241m=\u001b[39m square(n)\n\u001b[0;32m     17\u001b[0m \u001b[38;5;28mprint\u001b[39m(b\u001b[38;5;241m.\u001b[39marea())\n",
      "\u001b[1;31mValueError\u001b[0m: invalid literal for int() with base 10: '625 900'"
     ]
    }
   ],
   "source": [
    "class shape():\n",
    "    def __init__(self):\n",
    "        return 0\n",
    "class square(shape):\n",
    "    def __init__(self, length):\n",
    "        self.length = length\n",
    "    def area(self):\n",
    "        return self.length ** 2\n",
    "class rectangle(shape):\n",
    "    def __init__(self, lenth, width):\n",
    "        self.lenth = lenth\n",
    "        self.width = width\n",
    "    def area(self):\n",
    "        return self.lenth * self.width\n",
    "n = int(input())\n",
    "b = square(n)\n",
    "print(b.area())\n",
    "fir = int(input())\n",
    "sec = int(input())\n",
    "d = rectangle(fir,sec)\n",
    "print(d.area())"
   ]
  },
  {
   "cell_type": "code",
   "execution_count": 3,
   "metadata": {},
   "outputs": [
    {
     "ename": "ValueError",
     "evalue": "invalid literal for int() with base 10: '1 1 '",
     "output_type": "error",
     "traceback": [
      "\u001b[1;31m---------------------------------------------------------------------------\u001b[0m",
      "\u001b[1;31mValueError\u001b[0m                                Traceback (most recent call last)",
      "Cell \u001b[1;32mIn[3], line 13\u001b[0m\n\u001b[0;32m     11\u001b[0m     \u001b[38;5;28;01mdef\u001b[39;00m\u001b[38;5;250m \u001b[39m\u001b[38;5;21mdist\u001b[39m(\u001b[38;5;28mself\u001b[39m, ot):\n\u001b[0;32m     12\u001b[0m         \u001b[38;5;28;01mreturn\u001b[39;00m math\u001b[38;5;241m.\u001b[39msqrt((\u001b[38;5;28mself\u001b[39m\u001b[38;5;241m.\u001b[39mx \u001b[38;5;241m-\u001b[39m ot\u001b[38;5;241m.\u001b[39mx) \u001b[38;5;241m*\u001b[39m\u001b[38;5;241m*\u001b[39m \u001b[38;5;241m2\u001b[39m \u001b[38;5;241m+\u001b[39m (\u001b[38;5;28mself\u001b[39m\u001b[38;5;241m.\u001b[39my \u001b[38;5;241m-\u001b[39m ot\u001b[38;5;241m.\u001b[39my) \u001b[38;5;241m*\u001b[39m\u001b[38;5;241m*\u001b[39m \u001b[38;5;241m2\u001b[39m)\n\u001b[1;32m---> 13\u001b[0m x \u001b[38;5;241m=\u001b[39m \u001b[38;5;28;43mint\u001b[39;49m\u001b[43m(\u001b[49m\u001b[38;5;28;43minput\u001b[39;49m\u001b[43m(\u001b[49m\u001b[43m)\u001b[49m\u001b[43m)\u001b[49m\n\u001b[0;32m     14\u001b[0m y \u001b[38;5;241m=\u001b[39m \u001b[38;5;28mint\u001b[39m(\u001b[38;5;28minput\u001b[39m())\n\u001b[0;32m     15\u001b[0m a \u001b[38;5;241m=\u001b[39m point(x,y)\n",
      "\u001b[1;31mValueError\u001b[0m: invalid literal for int() with base 10: '1 1 '"
     ]
    }
   ],
   "source": [
    "import math\n",
    "class point():\n",
    "    def __init__(self, x , y):\n",
    "        self.x = x\n",
    "        self.y = y\n",
    "    def show(self):\n",
    "        print(self.x , self.y)\n",
    "    def move(self, oth):\n",
    "        self.x = oth.x\n",
    "        self.y = oth.y\n",
    "    def dist(self, ot):\n",
    "        return math.sqrt((self.x - ot.x) ** 2 + (self.y - ot.y) ** 2)\n",
    "x = int(input())\n",
    "y = int(input())\n",
    "a = point(x,y)\n",
    "a.show()\n",
    "x1 = int(input())\n",
    "y1 = int(input())\n",
    "b = point(x1,y1)\n",
    "a.move(b)\n",
    "x2 = int(input())\n",
    "y2 = int(input())\n",
    "c = point(x2,y2)\n",
    "a.dist(c)"
   ]
  },
  {
   "cell_type": "code",
   "execution_count": 4,
   "metadata": {},
   "outputs": [
    {
     "ename": "ValueError",
     "evalue": "invalid literal for int() with base 10: ''",
     "output_type": "error",
     "traceback": [
      "\u001b[1;31m---------------------------------------------------------------------------\u001b[0m",
      "\u001b[1;31mValueError\u001b[0m                                Traceback (most recent call last)",
      "Cell \u001b[1;32mIn[4], line 19\u001b[0m\n\u001b[0;32m     17\u001b[0m f \u001b[38;5;241m=\u001b[39m \u001b[38;5;28mint\u001b[39m(\u001b[38;5;28minput\u001b[39m())\n\u001b[0;32m     18\u001b[0m acc \u001b[38;5;241m=\u001b[39m Bank(\u001b[38;5;124m\"\u001b[39m\u001b[38;5;124mE\u001b[39m\u001b[38;5;124m\"\u001b[39m, f)\n\u001b[1;32m---> 19\u001b[0m d \u001b[38;5;241m=\u001b[39m \u001b[38;5;28;43mint\u001b[39;49m\u001b[43m(\u001b[49m\u001b[38;5;28;43minput\u001b[39;49m\u001b[43m(\u001b[49m\u001b[43m)\u001b[49m\u001b[43m)\u001b[49m\n\u001b[0;32m     20\u001b[0m acc\u001b[38;5;241m.\u001b[39mdeposit(d)\n\u001b[0;32m     21\u001b[0m w \u001b[38;5;241m=\u001b[39m \u001b[38;5;28mint\u001b[39m(\u001b[38;5;28minput\u001b[39m())\n",
      "\u001b[1;31mValueError\u001b[0m: invalid literal for int() with base 10: ''"
     ]
    }
   ],
   "source": [
    "class Bank:\n",
    "    def __init__(self, o, b):\n",
    "        self.o = o\n",
    "        self.b = b\n",
    "\n",
    "    def deposit(self, a):\n",
    "        self.b += a\n",
    "        print(f\"Deposited {a}. New balance: {self.b}\")\n",
    "\n",
    "    def withdraw(self, a):\n",
    "        if self.b < a:\n",
    "            print(\"Insufficient funds!\")\n",
    "        else:\n",
    "            self.b -= a\n",
    "            print(f\"Withdrew {a}. New balance: {self.b}\")\n",
    "\n",
    "f = int(input())\n",
    "acc = Bank(\"E\", f)\n",
    "d = int(input())\n",
    "acc.deposit(d)\n",
    "w = int(input())\n",
    "acc.withdraw(w)"
   ]
  },
  {
   "cell_type": "code",
   "execution_count": null,
   "metadata": {},
   "outputs": [],
   "source": [
    "def is_prime(n):\n",
    "    if n < 2:\n",
    "        return False\n",
    "    for i in range(2, n):\n",
    "        if n % i == 0:\n",
    "            return False\n",
    "    return True\n",
    "i = list(map(int, input().split()))\n",
    "pn = list(filter(lambda x: is_prime(x), i))\n",
    "print(\"Prime numbers:\", pn)"
   ]
  }
 ],
 "metadata": {
  "kernelspec": {
   "display_name": "Python 3",
   "language": "python",
   "name": "python3"
  },
  "language_info": {
   "codemirror_mode": {
    "name": "ipython",
    "version": 3
   },
   "file_extension": ".py",
   "mimetype": "text/x-python",
   "name": "python",
   "nbconvert_exporter": "python",
   "pygments_lexer": "ipython3",
   "version": "3.13.2"
  }
 },
 "nbformat": 4,
 "nbformat_minor": 2
}
