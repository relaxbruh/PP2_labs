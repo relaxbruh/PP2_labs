{
 "cells": [
  {
   "cell_type": "markdown",
   "metadata": {},
   "source": [
    "TASK 1) Write a Python program that matches a string that has an 'a' followed by zero or more 'b''s."
   ]
  },
  {
   "cell_type": "code",
   "execution_count": null,
   "metadata": {},
   "outputs": [
    {
     "name": "stdout",
     "output_type": "stream",
     "text": [
      "Not matched!\n"
     ]
    }
   ],
   "source": [
    "import re\n",
    "def matching(text):\n",
    "    patterns = \"^a(b*)$\"\n",
    "    if re.search(\"^a(b*)$\", text):\n",
    "        return \"Found a match!\"\n",
    "    else:\n",
    "        return \"Not matched!\"\n",
    "    \n",
    "x = input()\n",
    "print(matching(x))\n",
    "# input: abc    output : Not matched \n",
    "# input: abbbb    output: Found a match"
   ]
  },
  {
   "cell_type": "markdown",
   "metadata": {},
   "source": [
    "TASK 2) Write a Python program that matches a string that has an 'a' followed by two to three 'b'."
   ]
  },
  {
   "cell_type": "code",
   "execution_count": null,
   "metadata": {},
   "outputs": [
    {
     "name": "stdout",
     "output_type": "stream",
     "text": [
      "Not matched!\n"
     ]
    }
   ],
   "source": [
    "import re\n",
    "def matching(text):\n",
    "    patterns = \"^a(b*)$\"\n",
    "    if re.search(r\"^a(b{2,3})$\", text):\n",
    "        return \"Found a match!\"\n",
    "    else:\n",
    "        return \"Not matched!\"\n",
    "    \n",
    "x = input()\n",
    "print(matching(x))\n",
    "\n",
    "# input: ab   output: Not matched\n",
    "# input: abbbb   output: Not matched\n",
    "# input:  abbb    output: Found a match"
   ]
  },
  {
   "cell_type": "markdown",
   "metadata": {},
   "source": [
    "TASK 3) Write a Python program to find sequences of lowercase letters joined with a underscore."
   ]
  },
  {
   "cell_type": "code",
   "execution_count": 1,
   "metadata": {},
   "outputs": [
    {
     "name": "stdout",
     "output_type": "stream",
     "text": [
      "['hello_world', 'test_string', 'another_example']\n"
     ]
    }
   ],
   "source": [
    "import re\n",
    "\n",
    "def fun(txt):\n",
    "    pattern = r'\\b[a-z]+_[a-z]+\\b'\n",
    "    \n",
    "    matches = re.findall(pattern, txt)\n",
    "    \n",
    "    return matches\n",
    "\n",
    "txt = \"hello_world test_string Python_code notMatching THIS_ONE another_example\"\n",
    "\n",
    "result = fun(txt)\n",
    "\n",
    "print(result)\n"
   ]
  },
  {
   "cell_type": "markdown",
   "metadata": {},
   "source": [
    "4) Write a Python program to find the sequences of one upper case letter followed by lower case letters."
   ]
  },
  {
   "cell_type": "code",
   "execution_count": 3,
   "metadata": {},
   "outputs": [
    {
     "name": "stdout",
     "output_type": "stream",
     "text": [
      "['Hello', 'Test', 'String', 'Python', 'Code', 'Example', 'Apple', 'Banana']\n"
     ]
    }
   ],
   "source": [
    "import re\n",
    "\n",
    "def fun(txt):\n",
    "    pattern = r'\\b[A-Z][a-z]+\\b'\n",
    "    \n",
    "    matches = re.findall(pattern, txt)\n",
    "    \n",
    "    return matches\n",
    "\n",
    "txt = \"Hello world Test String Python Code Example JAVA script Apple Banana\"\n",
    "result = fun(txt)\n",
    "\n",
    "print(result)"
   ]
  },
  {
   "cell_type": "markdown",
   "metadata": {},
   "source": [
    "5) Write a Python program that matches a string that has an 'a' followed by anything, ending in 'b'."
   ]
  },
  {
   "cell_type": "code",
   "execution_count": 4,
   "metadata": {},
   "outputs": [
    {
     "name": "stdout",
     "output_type": "stream",
     "text": [
      "abcdb : match found!\n",
      "a123b : match found!\n",
      "ab : match found!\n",
      "aXYZb : match found!\n",
      "acb : match found!\n",
      "axb : match found!\n",
      "ba : no match\n",
      "bca : no match\n"
     ]
    }
   ],
   "source": [
    "import re\n",
    "\n",
    "def fun(txt):\n",
    "    pattern = r'^a.*b$'\n",
    "    \n",
    "    if re.fullmatch(pattern, txt):\n",
    "        return \"match found!\"\n",
    "    else:\n",
    "        return \"no match\"\n",
    "    \n",
    "test_str = [\"abcdb\", \"a123b\", \"ab\", \"aXYZb\", \"acb\", \"axb\", \"ba\", \"bca\"]\n",
    "\n",
    "for x in test_str:\n",
    "    print(f\"{x} : {fun(x)}\")\n"
   ]
  },
  {
   "cell_type": "markdown",
   "metadata": {},
   "source": [
    "6) Write a Python program to replace all occurrences of space, comma, or dot with a colon."
   ]
  },
  {
   "cell_type": "code",
   "execution_count": 1,
   "metadata": {},
   "outputs": [
    {
     "name": "stdout",
     "output_type": "stream",
     "text": [
      "Hello: world: I am gay\n"
     ]
    }
   ],
   "source": [
    "import re\n",
    "\n",
    "def fun(txt):\n",
    "    return re.sub(r'[,.]', ':', txt)\n",
    "\n",
    "\n",
    "input_txt = \"Hello, world. I am gay\"\n",
    "output_txt = fun(input_txt)\n",
    "\n",
    "print(output_txt)"
   ]
  },
  {
   "cell_type": "markdown",
   "metadata": {},
   "source": [
    "7) Write a python program to convert snake case string to camel case string"
   ]
  },
  {
   "cell_type": "code",
   "execution_count": 5,
   "metadata": {},
   "outputs": [
    {
     "name": "stdout",
     "output_type": "stream",
     "text": [
      "snakeCase\n"
     ]
    }
   ],
   "source": [
    "import re\n",
    "\n",
    "def fun(txt):\n",
    "    return re.sub(r'_([a-z])', lambda match: match.group(1).upper(), txt)\n",
    "\n",
    "input_txt = \"snake_case\"\n",
    "\n",
    "output_txt = fun(input_txt)\n",
    "\n",
    "print(output_txt)"
   ]
  },
  {
   "cell_type": "markdown",
   "metadata": {},
   "source": [
    "8 ) Write a Python program to split a string at uppercase letters"
   ]
  },
  {
   "cell_type": "code",
   "execution_count": 7,
   "metadata": {},
   "outputs": [
    {
     "name": "stdout",
     "output_type": "stream",
     "text": [
      "['hello', 'World']\n"
     ]
    }
   ],
   "source": [
    "import re\n",
    "\n",
    "def fun(txt):\n",
    "    return re.split(r'(?=[A-Z])', txt)\n",
    "\n",
    "txt1 = \"helloWorld\"\n",
    "result = fun(txt1)\n",
    "\n",
    "print(result)"
   ]
  },
  {
   "cell_type": "markdown",
   "metadata": {},
   "source": [
    "9 )  Write a Python program to insert spaces between words starting with capital letters"
   ]
  },
  {
   "cell_type": "code",
   "execution_count": 11,
   "metadata": {},
   "outputs": [
    {
     "name": "stdout",
     "output_type": "stream",
     "text": [
      " Hello World Python\n"
     ]
    }
   ],
   "source": [
    "import re \n",
    "\n",
    "def fun(txt):\n",
    "    return re.sub(r'([A-Z])', r' \\1', txt)\n",
    "\n",
    "\n",
    "input_txt1 = \"HelloWorldPython\"\n",
    "\n",
    "output_txt1 = fun(input_txt1)\n",
    "\n",
    "print(output_txt1)\n",
    "    "
   ]
  },
  {
   "cell_type": "markdown",
   "metadata": {},
   "source": [
    "10 ) Write a Python program to convert a given camel case string to snake case"
   ]
  },
  {
   "cell_type": "code",
   "execution_count": 16,
   "metadata": {},
   "outputs": [
    {
     "name": "stdout",
     "output_type": "stream",
     "text": [
      "snake_case\n"
     ]
    }
   ],
   "source": [
    "import re\n",
    "\n",
    "def fun(txt):\n",
    "    return re.sub(r'([A-Z])', r'_\\1', txt).lower()\n",
    "input_txt = \"snakeCase\"\n",
    "\n",
    "output_txt = fun(input_txt)\n",
    "\n",
    "print(output_txt)"
   ]
  }
 ],
 "metadata": {
  "kernelspec": {
   "display_name": "Python 3",
   "language": "python",
   "name": "python3"
  },
  "language_info": {
   "codemirror_mode": {
    "name": "ipython",
    "version": 3
   },
   "file_extension": ".py",
   "mimetype": "text/x-python",
   "name": "python",
   "nbconvert_exporter": "python",
   "pygments_lexer": "ipython3",
   "version": "3.13.2"
  }
 },
 "nbformat": 4,
 "nbformat_minor": 2
}
