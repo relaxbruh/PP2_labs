{
 "cells": [
  {
   "cell_type": "markdown",
   "metadata": {},
   "source": [
    "1 ) Write a Python program to list only directories, files and all directories, files in a specified path."
   ]
  },
  {
   "cell_type": "code",
   "execution_count": 10,
   "metadata": {},
   "outputs": [
    {
     "name": "stdout",
     "output_type": "stream",
     "text": [
      "Files and directories in ' / ' :\n",
      "['$Recycle.Bin', 'Config', 'Config.Msi', 'Dev-Cpp', 'Documents and Settings', 'DumpStack.log', 'DumpStack.log.tmp', 'Games', 'GOG Games', 'hiberfil.sys', 'msys64', 'OneDriveTemp', 'pagefile.sys', 'PerfLogs', 'Program Files', 'Program Files (x86)', 'ProgramData', 'Recovery', 'swapfile.sys', 'System Volume Information', 'Users', 'Windows']\n"
     ]
    }
   ],
   "source": [
    "import os\n",
    "path = '/'\n",
    "\n",
    "dir_list = os.listdir(path)\n",
    "\n",
    "print(\"Files and directories in '\", path, \"' :\")\n",
    "\n",
    "print(dir_list)\n"
   ]
  },
  {
   "cell_type": "markdown",
   "metadata": {},
   "source": [
    "2 )  Write a Python program to check for access to a specified path. Test the existence, readability, writability and executability of the specified path"
   ]
  },
  {
   "cell_type": "code",
   "execution_count": 11,
   "metadata": {},
   "outputs": [
    {
     "name": "stdout",
     "output_type": "stream",
     "text": [
      "Path exists\n",
      "Readable: True\n",
      "Writable: True\n",
      "Executable: True\n"
     ]
    }
   ],
   "source": [
    "import os\n",
    "\n",
    "def checking(path):\n",
    "    if os.path.exists(path):\n",
    "        print(\"Path exists\")\n",
    "        print(\"Readable:\", os.access(path, os.R_OK))\n",
    "        print(\"Writable:\", os.access(path, os.W_OK))\n",
    "        print(\"Executable:\", os.access(path, os.X_OK))\n",
    "    else:\n",
    "        print(\"Path doesn't exist\")\n",
    "        \n",
    "path = input(\"Enter path: \")\n",
    "checking(path)"
   ]
  },
  {
   "cell_type": "markdown",
   "metadata": {},
   "source": [
    "3 ) Write a Python program to test whether a given path exists or not. If the path exist find the filename and directory portion of the given path."
   ]
  },
  {
   "cell_type": "code",
   "execution_count": null,
   "metadata": {},
   "outputs": [
    {
     "name": "stdout",
     "output_type": "stream",
     "text": [
      "Such path doesn't exist\n"
     ]
    }
   ],
   "source": [
    "import os \n",
    "def checkforpath(path):\n",
    "    if os.path.exists(path):\n",
    "        print(\"It exists\")\n",
    "        print(\"Directory:\", os.path.dirname(path))\n",
    "        print(\"Filename:\", os.path.basename(path))\n",
    "    else:\n",
    "        print(\"Such path doesn't exist\")\n",
    "        \n",
    "path = input(\"Enter the path: \")\n",
    "checkforpath(path)"
   ]
  },
  {
   "cell_type": "markdown",
   "metadata": {},
   "source": [
    "4 )   Write a Python program to count the number of lines in a text file."
   ]
  },
  {
   "cell_type": "code",
   "execution_count": 13,
   "metadata": {},
   "outputs": [
    {
     "name": "stdout",
     "output_type": "stream",
     "text": [
      "Counts:  5\n"
     ]
    }
   ],
   "source": [
    "with open('donie.txt', 'r') as file:\n",
    "    print(\"Counts: \", len(file.readlines()))\n",
    "        \n"
   ]
  },
  {
   "cell_type": "markdown",
   "metadata": {},
   "source": [
    "5 ) Write a Python program to write a list to a file"
   ]
  },
  {
   "cell_type": "code",
   "execution_count": 14,
   "metadata": {},
   "outputs": [
    {
     "name": "stdout",
     "output_type": "stream",
     "text": [
      "A file was created \n",
      "now the file has more content\n"
     ]
    }
   ],
   "source": [
    "\n",
    "f = open(\"a.txt\", 'a')\n",
    "f.write(\"now the file has more content\")\n",
    "f.close\n",
    "\n",
    "f = open('a.txt', 'r')\n",
    "print(f.read())"
   ]
  },
  {
   "cell_type": "markdown",
   "metadata": {},
   "source": [
    "6 ) Write a Python program to generate 26 text files named A.txt, B.txt, and so on up to Z.txt"
   ]
  },
  {
   "cell_type": "code",
   "execution_count": 15,
   "metadata": {},
   "outputs": [
    {
     "name": "stdout",
     "output_type": "stream",
     "text": [
      "Succesful\n",
      "Succesful\n",
      "Succesful\n",
      "Succesful\n",
      "Succesful\n",
      "Succesful\n",
      "Succesful\n",
      "Succesful\n",
      "Succesful\n",
      "Succesful\n",
      "Succesful\n",
      "Succesful\n",
      "Succesful\n",
      "Succesful\n",
      "Succesful\n",
      "Succesful\n",
      "Succesful\n",
      "Succesful\n",
      "Succesful\n",
      "Succesful\n",
      "Succesful\n",
      "Succesful\n",
      "Succesful\n",
      "Succesful\n",
      "Succesful\n",
      "Succesful\n"
     ]
    }
   ],
   "source": [
    "a = ['A', 'B', 'C', 'D', 'E', 'F', 'G', 'H', 'I', 'J', 'K', 'L', 'M', 'N', 'O', 'P', 'Q', 'R', 'S', 'T', 'U', 'V', 'W', 'X', 'Y', 'Z']\n",
    "\n",
    "for i in a:\n",
    "    name = f\"{i}.txt\"\n",
    "    with open(name, 'w', encoding = 'utf-8') as doc:\n",
    "        doc.write(f\"{i} file was created \\n\")\n",
    "    print(\"Succesful\")\n",
    "\n"
   ]
  },
  {
   "cell_type": "markdown",
   "metadata": {},
   "source": [
    "7 ) Write a Python program to copy the contents of a file to another file"
   ]
  },
  {
   "cell_type": "code",
   "execution_count": 16,
   "metadata": {},
   "outputs": [
    {
     "name": "stdout",
     "output_type": "stream",
     "text": [
      "File copied successfully.\n",
      "Enjoy the moment\n"
     ]
    }
   ],
   "source": [
    "with open('task7.txt', 'r') as src, open(\"task71.txt\", 'w') as dest:\n",
    "    dest.write(src.read())\n",
    "print(\"File copied successfully.\")\n",
    "\n",
    "f = open(\"task71.txt\", 'r')\n",
    "print(f.read())     \n"
   ]
  },
  {
   "cell_type": "markdown",
   "metadata": {},
   "source": [
    "8 ) Write a Python program to delete file by specified path. Before deleting check for access and whether a given path exists or not."
   ]
  },
  {
   "cell_type": "code",
   "execution_count": 17,
   "metadata": {},
   "outputs": [
    {
     "name": "stdout",
     "output_type": "stream",
     "text": [
      "Such file doesn't exist\n"
     ]
    }
   ],
   "source": [
    "import os\n",
    "\n",
    "def deleting(path):\n",
    "    if os.path.exists(path):\n",
    "        if os.access(path, os.W_OK):\n",
    "            os.remove(path)\n",
    "            print(\"File successfully deleted\")\n",
    "        else:\n",
    "            prin(\"No permission to delete\")\n",
    "    else:\n",
    "        print(\"Such file doesn't exist\")\n",
    "        \n",
    "path = input(\"Enter the path: \")\n",
    "\n",
    "deleting(path)"
   ]
  }
 ],
 "metadata": {
  "kernelspec": {
   "display_name": "Python 3",
   "language": "python",
   "name": "python3"
  },
  "language_info": {
   "codemirror_mode": {
    "name": "ipython",
    "version": 3
   },
   "file_extension": ".py",
   "mimetype": "text/x-python",
   "name": "python",
   "nbconvert_exporter": "python",
   "pygments_lexer": "ipython3",
   "version": "3.13.2"
  }
 },
 "nbformat": 4,
 "nbformat_minor": 2
}
