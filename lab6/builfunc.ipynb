{
 "cells": [
  {
   "cell_type": "markdown",
   "metadata": {},
   "source": [
    "1 ) Write a Python program with builtin function to multiply all the numbers in a list"
   ]
  },
  {
   "cell_type": "code",
   "execution_count": 1,
   "metadata": {},
   "outputs": [
    {
     "name": "stdout",
     "output_type": "stream",
     "text": [
      "120\n"
     ]
    }
   ],
   "source": [
    "from functools import  reduce\n",
    "\n",
    "def mult(numebers):\n",
    "    return reduce(lambda x, y: x * y, numebers)\n",
    "\n",
    "numebers = list(map(int, input(\"Enter the numbers: \").split()))\n",
    "\n",
    "result = mult(numebers)\n",
    "print(result)"
   ]
  },
  {
   "cell_type": "markdown",
   "metadata": {},
   "source": [
    "2 ) Write a Python program with builtin function that accepts a string and calculate the number of upper case letters and lower case letters"
   ]
  },
  {
   "cell_type": "code",
   "execution_count": 2,
   "metadata": {},
   "outputs": [
    {
     "name": "stdout",
     "output_type": "stream",
     "text": [
      "Uppers:  2\n",
      "Lowers:  8\n"
     ]
    }
   ],
   "source": [
    "from functools import  reduce\n",
    "\n",
    "def counts(s):\n",
    "    upper = sum(1 for char in s if char.isupper())\n",
    "    lower = sum(1 for char in s if char.islower())\n",
    "    print(\"Uppers: \", upper)\n",
    "    print(\"Lowers: \", lower)\n",
    "    \n",
    "txt = input(\"Enter the text: \")\n",
    "counts(txt)\n"
   ]
  },
  {
   "cell_type": "markdown",
   "metadata": {},
   "source": [
    "3 ) Write a Python program with builtin function that checks whether a passed string is palindrome or not"
   ]
  },
  {
   "cell_type": "code",
   "execution_count": null,
   "metadata": {},
   "outputs": [],
   "source": [
    "def pal(s):\n",
    "    s = s.lower()\n",
    "    return s == s[::-1]\n",
    "\n",
    "s = input()\n",
    "print(pal(s))"
   ]
  },
  {
   "cell_type": "markdown",
   "metadata": {},
   "source": [
    "4 ) Write a Python program that invoke square root function after specific milliseconds."
   ]
  },
  {
   "cell_type": "code",
   "execution_count": 1,
   "metadata": {},
   "outputs": [
    {
     "name": "stdout",
     "output_type": "stream",
     "text": [
      "Square root of  10  after  20  milleseconds is  3.1622776601683795\n"
     ]
    }
   ],
   "source": [
    "import time \n",
    "a = int(input())\n",
    "b = int(input())\n",
    "\n",
    "time.sleep(0.001*b)\n",
    "\n",
    "print(\"Square root of \", a, \" after \", b, \" milleseconds is \", a**(1/2) )\n"
   ]
  },
  {
   "cell_type": "markdown",
   "metadata": {},
   "source": [
    "5 )  Write a Python program with builtin function that returns True if all elements of the tuple are true."
   ]
  },
  {
   "cell_type": "code",
   "execution_count": 2,
   "metadata": {},
   "outputs": [
    {
     "name": "stdout",
     "output_type": "stream",
     "text": [
      "True\n"
     ]
    }
   ],
   "source": [
    "def tru(a):\n",
    "    return all(a)\n",
    "\n",
    "a = (1, True, 'Hello', [1,2,3])\n",
    "\n",
    "print(tru(a))"
   ]
  }
 ],
 "metadata": {
  "kernelspec": {
   "display_name": "Python 3",
   "language": "python",
   "name": "python3"
  },
  "language_info": {
   "codemirror_mode": {
    "name": "ipython",
    "version": 3
   },
   "file_extension": ".py",
   "mimetype": "text/x-python",
   "name": "python",
   "nbconvert_exporter": "python",
   "pygments_lexer": "ipython3",
   "version": "3.13.2"
  }
 },
 "nbformat": 4,
 "nbformat_minor": 2
}
