{
 "cells": [
  {
   "cell_type": "markdown",
   "metadata": {},
   "source": [
    "1) Write a Python program to subtract five days from current date"
   ]
  },
  {
   "cell_type": "code",
   "execution_count": 20,
   "metadata": {},
   "outputs": [
    {
     "name": "stdout",
     "output_type": "stream",
     "text": [
      "Current date: 2025-03-14\n",
      "Day 1 ago: 2025-03-15\n",
      "Day 2 ago: 2025-03-16\n",
      "Day 3 ago: 2025-03-17\n",
      "Day 4 ago: 2025-03-18\n"
     ]
    }
   ],
   "source": [
    "from datetime import datetime, timedelta\n",
    "\n",
    "current_date = datetime.today()\n",
    "\n",
    "print(\"Current date:\", current_date.strftime(\"%Y-%m-%d\"))\n",
    "\n",
    "for i in range(1,5):\n",
    "    new_date = current_date + timedelta(days=i)\n",
    "    print(f\"Day {i} ago: {new_date.strftime(\"%Y-%m-%d\")}\")\n",
    "\n",
    "\n"
   ]
  },
  {
   "cell_type": "markdown",
   "metadata": {},
   "source": [
    "2)  Write a Python program to print yesterday, today, tomorrow."
   ]
  },
  {
   "cell_type": "code",
   "execution_count": 50,
   "metadata": {},
   "outputs": [
    {
     "name": "stdout",
     "output_type": "stream",
     "text": [
      "2025-03-14\n",
      "2025-03-15\n",
      "2025-03-16\n"
     ]
    }
   ],
   "source": [
    "from datetime import datetime, timedelta\n",
    "\n",
    "current_date = datetime.today()\n",
    "tomorrow_date = current_date + timedelta(days=1)\n",
    "yesterday_date = current_date - timedelta(days=1)\n",
    "\n",
    "print(yesterday_date.strftime(\"%Y-%m-%d\"))\n",
    "print( current_date.strftime(\"%Y-%m-%d\")) \n",
    "print(tomorrow_date.strftime(\"%Y-%m-%d\"))\n"
   ]
  },
  {
   "cell_type": "markdown",
   "metadata": {},
   "source": [
    "3) Write a Python program to drop microseconds from datetime"
   ]
  },
  {
   "cell_type": "code",
   "execution_count": 51,
   "metadata": {},
   "outputs": [
    {
     "name": "stdout",
     "output_type": "stream",
     "text": [
      "913317\n"
     ]
    }
   ],
   "source": [
    "import datetime\n",
    "\n",
    "x = datetime.datetime.now()\n",
    "\n",
    "print(x.strftime(\"%f\"))"
   ]
  },
  {
   "cell_type": "markdown",
   "metadata": {},
   "source": [
    "4) Write a Python program to calculate two date difference in seconds."
   ]
  },
  {
   "cell_type": "code",
   "execution_count": 52,
   "metadata": {},
   "outputs": [
    {
     "name": "stdout",
     "output_type": "stream",
     "text": [
      "358200\n"
     ]
    }
   ],
   "source": [
    "from datetime import datetime\n",
    "\n",
    "date1 = datetime(2025, 3, 10, 12, 0, 0)\n",
    "date2 = datetime(2025, 3, 14, 15, 30, 0)\n",
    "\n",
    "difference = date2 - date1\n",
    "\n",
    "difference_in_seconds = difference.days * 24 * 3600 + difference.seconds\n",
    "\n",
    "print(difference_in_seconds)"
   ]
  }
 ],
 "metadata": {
  "kernelspec": {
   "display_name": "Python 3",
   "language": "python",
   "name": "python3"
  },
  "language_info": {
   "codemirror_mode": {
    "name": "ipython",
    "version": 3
   },
   "file_extension": ".py",
   "mimetype": "text/x-python",
   "name": "python",
   "nbconvert_exporter": "python",
   "pygments_lexer": "ipython3",
   "version": "3.13.2"
  }
 },
 "nbformat": 4,
 "nbformat_minor": 2
}
