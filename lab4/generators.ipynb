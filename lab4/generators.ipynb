{
 "cells": [
  {
   "cell_type": "markdown",
   "metadata": {},
   "source": [
    "1) Create a generator that generates the squares of numbers up to some number N"
   ]
  },
  {
   "cell_type": "code",
   "execution_count": 3,
   "metadata": {},
   "outputs": [
    {
     "name": "stdout",
     "output_type": "stream",
     "text": [
      "1\n",
      "4\n",
      "9\n",
      "16\n",
      "25\n"
     ]
    }
   ],
   "source": [
    "def fun(N):\n",
    "    for num in range(1, N+1):\n",
    "        yield num ** 2\n",
    "        \n",
    "        \n",
    "N = int(input())\n",
    "for square in fun(N):\n",
    "    print(square)\n",
    "\n",
    "    "
   ]
  },
  {
   "cell_type": "markdown",
   "metadata": {},
   "source": [
    "2) Write a program using generator to print the even numbers between 0 and n in comma separated form where n is input from console."
   ]
  },
  {
   "cell_type": "code",
   "execution_count": 8,
   "metadata": {},
   "outputs": [
    {
     "name": "stdout",
     "output_type": "stream",
     "text": [
      "0,2,4,6,8,10\n"
     ]
    }
   ],
   "source": [
    "def even(n):\n",
    "    even_numbers = []\n",
    "    for num in range(0, n+1):\n",
    "        if num % 2 ==0:\n",
    "            even_numbers.append(str(num))\n",
    "    \n",
    "    print(','.join(even_numbers))\n",
    "        \n",
    "n = int(input())\n",
    "even(n)\n"
   ]
  },
  {
   "cell_type": "markdown",
   "metadata": {},
   "source": [
    "3) Define a function with a generator which can iterate the numbers, which are divisible by 3 and 4, between a given range 0 and n"
   ]
  },
  {
   "cell_type": "code",
   "execution_count": 12,
   "metadata": {},
   "outputs": [
    {
     "name": "stdout",
     "output_type": "stream",
     "text": [
      "0\n",
      "12\n",
      "24\n",
      "36\n",
      "48\n"
     ]
    }
   ],
   "source": [
    "def fun(n):\n",
    "    for num in range(0, n+1):\n",
    "        if num %3 ==0 and num%4==0:\n",
    "            yield num\n",
    "            \n",
    "n = int(input())\n",
    "for x in fun(n):\n",
    "    print(x)"
   ]
  },
  {
   "cell_type": "markdown",
   "metadata": {},
   "source": [
    "4) Implement a generator called squares to yield the square of all numbers from (a) to (b). Test it with a \"for\" loop and print each of the yielded values."
   ]
  },
  {
   "cell_type": "code",
   "execution_count": 15,
   "metadata": {},
   "outputs": [
    {
     "name": "stdout",
     "output_type": "stream",
     "text": [
      "9\n",
      "16\n",
      "25\n",
      "36\n"
     ]
    }
   ],
   "source": [
    "def squares(a,b):\n",
    "    for num in range(a, b+1):\n",
    "        yield num ** 2\n",
    "        \n",
    "a = int(input())\n",
    "b = int(input())\n",
    "\n",
    "for x in squares(a,b):\n",
    "    print(x)\n"
   ]
  },
  {
   "cell_type": "markdown",
   "metadata": {},
   "source": [
    "5) Implement a generator that returns all numbers from (n) down to 0."
   ]
  },
  {
   "cell_type": "code",
   "execution_count": 19,
   "metadata": {},
   "outputs": [
    {
     "name": "stdout",
     "output_type": "stream",
     "text": [
      "10\n",
      "9\n",
      "8\n",
      "7\n",
      "6\n",
      "5\n",
      "4\n",
      "3\n",
      "2\n",
      "1\n",
      "0\n"
     ]
    }
   ],
   "source": [
    "def fun(n):\n",
    "    for num in range(n,-1, -1):\n",
    "        yield num\n",
    "        \n",
    "        \n",
    "n = int(input())\n",
    "\n",
    "for x in fun(n):\n",
    "    print(x)"
   ]
  }
 ],
 "metadata": {
  "kernelspec": {
   "display_name": "Python 3",
   "language": "python",
   "name": "python3"
  },
  "language_info": {
   "codemirror_mode": {
    "name": "ipython",
    "version": 3
   },
   "file_extension": ".py",
   "mimetype": "text/x-python",
   "name": "python",
   "nbconvert_exporter": "python",
   "pygments_lexer": "ipython3",
   "version": "3.13.2"
  }
 },
 "nbformat": 4,
 "nbformat_minor": 2
}
